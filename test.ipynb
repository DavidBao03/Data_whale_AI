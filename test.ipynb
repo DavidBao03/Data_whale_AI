{
 "cells": [
  {
   "cell_type": "markdown",
   "metadata": {},
   "source": [
    "### **第一步**\n",
    "在运行环境中安装对应的库、数据集，并解压到对应的目录\n",
    "执行命令即可"
   ]
  },
  {
   "cell_type": "code",
   "execution_count": 1,
   "metadata": {
    "ExecutionIndicator": {
     "show": true
    },
    "execution": {
     "iopub.execute_input": "2024-07-27T06:44:46.789964Z",
     "iopub.status.busy": "2024-07-27T06:44:46.789809Z",
     "iopub.status.idle": "2024-07-27T06:44:51.939836Z",
     "shell.execute_reply": "2024-07-27T06:44:51.939306Z",
     "shell.execute_reply.started": "2024-07-27T06:44:46.789944Z"
    },
    "tags": []
   },
   "outputs": [
    {
     "name": "stdout",
     "output_type": "stream",
     "text": [
      "Looking in indexes: https://mirrors.cloud.aliyuncs.com/pypi/simple\n",
      "Requirement already satisfied: xarray[complete] in /usr/local/lib/python3.10/site-packages (2024.6.0)\n",
      "Requirement already satisfied: numpy>=1.23 in /usr/local/lib/python3.10/site-packages (from xarray[complete]) (1.26.3)\n",
      "Requirement already satisfied: packaging>=23.1 in /usr/local/lib/python3.10/site-packages (from xarray[complete]) (24.0)\n",
      "Requirement already satisfied: pandas>=2.0 in /usr/local/lib/python3.10/site-packages (from xarray[complete]) (2.2.2)\n",
      "Requirement already satisfied: python-dateutil>=2.8.2 in /usr/local/lib/python3.10/site-packages (from pandas>=2.0->xarray[complete]) (2.9.0.post0)\n",
      "Requirement already satisfied: pytz>=2020.1 in /usr/local/lib/python3.10/site-packages (from pandas>=2.0->xarray[complete]) (2024.1)\n",
      "Requirement already satisfied: tzdata>=2022.7 in /usr/local/lib/python3.10/site-packages (from pandas>=2.0->xarray[complete]) (2024.1)\n",
      "Requirement already satisfied: matplotlib in /usr/local/lib/python3.10/site-packages (from xarray[complete]) (3.9.0)\n",
      "Requirement already satisfied: seaborn in /usr/local/lib/python3.10/site-packages (from xarray[complete]) (0.13.2)\n",
      "Requirement already satisfied: nc-time-axis in /usr/local/lib/python3.10/site-packages (from xarray[complete]) (1.4.1)\n",
      "Requirement already satisfied: dask[complete] in /usr/local/lib/python3.10/site-packages (from xarray[complete]) (2024.7.1)\n",
      "Requirement already satisfied: scipy in /usr/local/lib/python3.10/site-packages (from xarray[complete]) (1.12.0)\n",
      "Requirement already satisfied: bottleneck in /usr/local/lib/python3.10/site-packages (from xarray[complete]) (1.4.0)\n",
      "Requirement already satisfied: numbagg in /usr/local/lib/python3.10/site-packages (from xarray[complete]) (0.8.1)\n",
      "Requirement already satisfied: flox in /usr/local/lib/python3.10/site-packages (from xarray[complete]) (0.9.8)\n",
      "Requirement already satisfied: opt-einsum in /usr/local/lib/python3.10/site-packages (from xarray[complete]) (3.3.0)\n",
      "Requirement already satisfied: netCDF4 in /usr/local/lib/python3.10/site-packages (from xarray[complete]) (1.7.1.post1)\n",
      "Requirement already satisfied: h5netcdf in /usr/local/lib/python3.10/site-packages (from xarray[complete]) (1.3.0)\n",
      "Requirement already satisfied: zarr in /usr/local/lib/python3.10/site-packages (from xarray[complete]) (2.18.2)\n",
      "Requirement already satisfied: fsspec in /usr/local/lib/python3.10/site-packages (from xarray[complete]) (2024.2.0)\n",
      "Requirement already satisfied: cftime in /usr/local/lib/python3.10/site-packages (from xarray[complete]) (1.6.4)\n",
      "Requirement already satisfied: pooch in /usr/local/lib/python3.10/site-packages (from xarray[complete]) (1.8.2)\n",
      "Requirement already satisfied: hypothesis in /usr/local/lib/python3.10/site-packages (from xarray[complete]) (6.108.4)\n",
      "Requirement already satisfied: mypy in /usr/local/lib/python3.10/site-packages (from xarray[complete]) (1.11.0)\n",
      "Requirement already satisfied: pre-commit in /usr/local/lib/python3.10/site-packages (from xarray[complete]) (3.7.1)\n",
      "Requirement already satisfied: pytest in /usr/local/lib/python3.10/site-packages (from xarray[complete]) (8.2.2)\n",
      "Requirement already satisfied: pytest-cov in /usr/local/lib/python3.10/site-packages (from xarray[complete]) (5.0.0)\n",
      "Requirement already satisfied: pytest-env in /usr/local/lib/python3.10/site-packages (from xarray[complete]) (1.1.3)\n",
      "Requirement already satisfied: pytest-xdist in /usr/local/lib/python3.10/site-packages (from xarray[complete]) (3.6.1)\n",
      "Requirement already satisfied: pytest-timeout in /usr/local/lib/python3.10/site-packages (from xarray[complete]) (2.3.1)\n",
      "Requirement already satisfied: ruff in /usr/local/lib/python3.10/site-packages (from xarray[complete]) (0.5.5)\n",
      "Requirement already satisfied: six>=1.5 in /usr/local/lib/python3.10/site-packages (from python-dateutil>=2.8.2->pandas>=2.0->xarray[complete]) (1.16.0)\n",
      "Requirement already satisfied: click>=8.1 in /usr/local/lib/python3.10/site-packages (from dask[complete]; extra == \"parallel\"->xarray[complete]) (8.1.7)\n",
      "Requirement already satisfied: cloudpickle>=1.5.0 in /usr/local/lib/python3.10/site-packages (from dask[complete]; extra == \"parallel\"->xarray[complete]) (3.0.0)\n",
      "Requirement already satisfied: partd>=1.4.0 in /usr/local/lib/python3.10/site-packages (from dask[complete]; extra == \"parallel\"->xarray[complete]) (1.4.2)\n",
      "Requirement already satisfied: pyyaml>=5.3.1 in /usr/local/lib/python3.10/site-packages (from dask[complete]; extra == \"parallel\"->xarray[complete]) (6.0.1)\n",
      "Requirement already satisfied: toolz>=0.10.0 in /usr/local/lib/python3.10/site-packages (from dask[complete]; extra == \"parallel\"->xarray[complete]) (0.12.1)\n",
      "Requirement already satisfied: importlib-metadata>=4.13.0 in /usr/local/lib/python3.10/site-packages (from dask[complete]; extra == \"parallel\"->xarray[complete]) (7.1.0)\n",
      "Requirement already satisfied: pyarrow>=7.0 in /usr/local/lib/python3.10/site-packages (from dask[complete]; extra == \"parallel\"->xarray[complete]) (17.0.0)\n",
      "Requirement already satisfied: pyarrow-hotfix in /usr/local/lib/python3.10/site-packages (from dask[complete]; extra == \"parallel\"->xarray[complete]) (0.6)\n",
      "Requirement already satisfied: lz4>=4.3.2 in /usr/local/lib/python3.10/site-packages (from dask[complete]; extra == \"parallel\"->xarray[complete]) (4.3.3)\n",
      "Requirement already satisfied: numpy-groupies>=0.9.19 in /usr/local/lib/python3.10/site-packages (from flox->xarray[complete]) (0.11.1)\n",
      "Requirement already satisfied: h5py in /usr/local/lib/python3.10/site-packages (from h5netcdf->xarray[complete]) (3.11.0)\n",
      "Requirement already satisfied: attrs>=22.2.0 in /usr/local/lib/python3.10/site-packages (from hypothesis->xarray[complete]) (23.2.0)\n",
      "Requirement already satisfied: sortedcontainers<3.0.0,>=2.1.0 in /usr/local/lib/python3.10/site-packages (from hypothesis->xarray[complete]) (2.4.0)\n",
      "Requirement already satisfied: exceptiongroup>=1.0.0 in /usr/local/lib/python3.10/site-packages (from hypothesis->xarray[complete]) (1.2.1)\n",
      "Requirement already satisfied: contourpy>=1.0.1 in /usr/local/lib/python3.10/site-packages (from matplotlib->xarray[complete]) (1.2.1)\n",
      "Requirement already satisfied: cycler>=0.10 in /usr/local/lib/python3.10/site-packages (from matplotlib->xarray[complete]) (0.12.1)\n",
      "Requirement already satisfied: fonttools>=4.22.0 in /usr/local/lib/python3.10/site-packages (from matplotlib->xarray[complete]) (4.53.0)\n",
      "Requirement already satisfied: kiwisolver>=1.3.1 in /usr/local/lib/python3.10/site-packages (from matplotlib->xarray[complete]) (1.4.5)\n",
      "Requirement already satisfied: pillow>=8 in /usr/local/lib/python3.10/site-packages (from matplotlib->xarray[complete]) (10.2.0)\n",
      "Requirement already satisfied: pyparsing>=2.3.1 in /usr/local/lib/python3.10/site-packages (from matplotlib->xarray[complete]) (3.1.2)\n",
      "Requirement already satisfied: typing-extensions>=4.6.0 in /usr/local/lib/python3.10/site-packages (from mypy->xarray[complete]) (4.12.0)\n",
      "Requirement already satisfied: mypy-extensions>=1.0.0 in /usr/local/lib/python3.10/site-packages (from mypy->xarray[complete]) (1.0.0)\n",
      "Requirement already satisfied: tomli>=1.1.0 in /usr/local/lib/python3.10/site-packages (from mypy->xarray[complete]) (2.0.1)\n",
      "Requirement already satisfied: certifi in /usr/local/lib/python3.10/site-packages (from netCDF4->xarray[complete]) (2024.2.2)\n",
      "Requirement already satisfied: numba in /usr/local/lib/python3.10/site-packages (from numbagg->xarray[complete]) (0.60.0)\n",
      "Requirement already satisfied: platformdirs>=2.5.0 in /usr/local/lib/python3.10/site-packages (from pooch->xarray[complete]) (4.2.2)\n",
      "Requirement already satisfied: requests>=2.19.0 in /usr/local/lib/python3.10/site-packages (from pooch->xarray[complete]) (2.32.3)\n",
      "Requirement already satisfied: cfgv>=2.0.0 in /usr/local/lib/python3.10/site-packages (from pre-commit->xarray[complete]) (3.4.0)\n",
      "Requirement already satisfied: identify>=1.0.0 in /usr/local/lib/python3.10/site-packages (from pre-commit->xarray[complete]) (2.6.0)\n",
      "Requirement already satisfied: nodeenv>=0.11.1 in /usr/local/lib/python3.10/site-packages (from pre-commit->xarray[complete]) (1.9.1)\n",
      "Requirement already satisfied: virtualenv>=20.10.0 in /usr/local/lib/python3.10/site-packages (from pre-commit->xarray[complete]) (20.26.3)\n",
      "Requirement already satisfied: iniconfig in /usr/local/lib/python3.10/site-packages (from pytest->xarray[complete]) (2.0.0)\n",
      "Requirement already satisfied: pluggy<2.0,>=1.5 in /usr/local/lib/python3.10/site-packages (from pytest->xarray[complete]) (1.5.0)\n",
      "Requirement already satisfied: coverage>=5.2.1 in /usr/local/lib/python3.10/site-packages (from coverage[toml]>=5.2.1->pytest-cov->xarray[complete]) (7.6.0)\n",
      "Requirement already satisfied: execnet>=2.1 in /usr/local/lib/python3.10/site-packages (from pytest-xdist->xarray[complete]) (2.1.1)\n",
      "Requirement already satisfied: asciitree in /usr/local/lib/python3.10/site-packages (from zarr->xarray[complete]) (0.3.3)\n",
      "Requirement already satisfied: numcodecs>=0.10.0 in /usr/local/lib/python3.10/site-packages (from zarr->xarray[complete]) (0.13.0)\n",
      "Requirement already satisfied: fasteners in /usr/local/lib/python3.10/site-packages (from zarr->xarray[complete]) (0.19)\n",
      "Requirement already satisfied: zipp>=0.5 in /usr/local/lib/python3.10/site-packages (from importlib-metadata>=4.13.0->dask[complete]; extra == \"parallel\"->xarray[complete]) (3.19.0)\n",
      "Requirement already satisfied: locket in /usr/local/lib/python3.10/site-packages (from partd>=1.4.0->dask[complete]; extra == \"parallel\"->xarray[complete]) (1.0.0)\n",
      "Requirement already satisfied: charset-normalizer<4,>=2 in /usr/local/lib/python3.10/site-packages (from requests>=2.19.0->pooch->xarray[complete]) (3.3.2)\n",
      "Requirement already satisfied: idna<4,>=2.5 in /usr/local/lib/python3.10/site-packages (from requests>=2.19.0->pooch->xarray[complete]) (3.7)\n",
      "Requirement already satisfied: urllib3<3,>=1.21.1 in /usr/local/lib/python3.10/site-packages (from requests>=2.19.0->pooch->xarray[complete]) (2.2.1)\n",
      "Requirement already satisfied: distlib<1,>=0.3.7 in /usr/local/lib/python3.10/site-packages (from virtualenv>=20.10.0->pre-commit->xarray[complete]) (0.3.8)\n",
      "Requirement already satisfied: filelock<4,>=3.12.2 in /usr/local/lib/python3.10/site-packages (from virtualenv>=20.10.0->pre-commit->xarray[complete]) (3.14.0)\n",
      "Requirement already satisfied: distributed==2024.7.1 in /usr/local/lib/python3.10/site-packages (from dask[complete]->xarray[complete]) (2024.7.1)\n",
      "Requirement already satisfied: bokeh>=2.4.2 in /usr/local/lib/python3.10/site-packages (from dask[complete]->xarray[complete]) (3.5.1)\n",
      "Requirement already satisfied: jinja2>=2.10.3 in /usr/local/lib/python3.10/site-packages (from dask[complete]->xarray[complete]) (3.1.4)\n",
      "Requirement already satisfied: dask-expr<1.2,>=1.1 in /usr/local/lib/python3.10/site-packages (from dask[complete]->xarray[complete]) (1.1.9)\n",
      "Requirement already satisfied: msgpack>=1.0.0 in /usr/local/lib/python3.10/site-packages (from distributed==2024.7.1->dask[complete]->xarray[complete]) (1.0.8)\n",
      "Requirement already satisfied: psutil>=5.7.2 in /usr/local/lib/python3.10/site-packages (from distributed==2024.7.1->dask[complete]->xarray[complete]) (5.9.8)\n",
      "Requirement already satisfied: tblib>=1.6.0 in /usr/local/lib/python3.10/site-packages (from distributed==2024.7.1->dask[complete]->xarray[complete]) (3.0.0)\n",
      "Requirement already satisfied: tornado>=6.0.4 in /usr/local/lib/python3.10/site-packages (from distributed==2024.7.1->dask[complete]->xarray[complete]) (6.4.1)\n",
      "Requirement already satisfied: zict>=3.0.0 in /usr/local/lib/python3.10/site-packages (from distributed==2024.7.1->dask[complete]->xarray[complete]) (3.0.0)\n",
      "Requirement already satisfied: llvmlite<0.44,>=0.43.0dev0 in /usr/local/lib/python3.10/site-packages (from numba->numbagg->xarray[complete]) (0.43.0)\n",
      "Requirement already satisfied: xyzservices>=2021.09.1 in /usr/local/lib/python3.10/site-packages (from bokeh>=2.4.2->dask[complete]->xarray[complete]) (2024.6.0)\n",
      "Requirement already satisfied: MarkupSafe>=2.0 in /usr/local/lib/python3.10/site-packages (from jinja2>=2.10.3->dask[complete]->xarray[complete]) (2.1.5)\n",
      "\u001b[33mWARNING: Error parsing dependencies of pytorch-lightning: .* suffix can only be used with `==` or `!=` operators\n",
      "    torch (>=1.9.*)\n",
      "           ~~~~~~^\u001b[0m\u001b[33m\n",
      "\u001b[0m\u001b[33mWARNING: Running pip as the 'root' user can result in broken permissions and conflicting behaviour with the system package manager, possibly rendering your system unusable.It is recommended to use a virtual environment instead: https://pip.pypa.io/warnings/venv. Use the --root-user-action option if you know what you are doing and want to suppress this warning.\u001b[0m\u001b[33m\n",
      "命中:1 http://mirrors.aliyun.com/ubuntu jammy InRelease\n",
      "命中:2 http://mirrors.aliyun.com/ubuntu jammy-security InRelease                 \n",
      "命中:3 http://mirrors.aliyun.com/ubuntu jammy-updates InRelease                  \u001b[33m\n",
      "命中:4 http://mirrors.aliyun.com/ubuntu jammy-backports InRelease                \u001b[33m\n",
      "命中:5 https://developer.download.nvidia.cn/compute/cuda/repos/ubuntu2204/x86_64  InRelease\u001b[33m\n",
      "正在读取软件包列表... 完成%m\n",
      "正在分析软件包的依赖关系树... 完成%\n",
      "正在读取状态信息... 完成                   \n",
      "有 54 个软件包可以升级。请执行 ‘apt list --upgradable’ 来查看它们。\n",
      "正在读取软件包列表... 完成%\n",
      "正在分析软件包的依赖关系树... 完成%\n",
      "正在读取状态信息... 完成                   \n",
      "axel 已经是最新版 (2.17.11-1)。\n",
      "升级了 0 个软件包，新安装了 0 个软件包， 要卸载 0 个软件包，有 54 个软件包未被升级。\n"
     ]
    }
   ],
   "source": [
    "!pip install xarray[complete]\n",
    "!apt update&&apt install axel"
   ]
  },
  {
   "cell_type": "code",
   "execution_count": 2,
   "metadata": {
    "ExecutionIndicator": {
     "show": false
    },
    "execution": {
     "iopub.execute_input": "2024-07-27T06:44:51.941958Z",
     "iopub.status.busy": "2024-07-27T06:44:51.941591Z",
     "iopub.status.idle": "2024-07-27T06:44:51.944720Z",
     "shell.execute_reply": "2024-07-27T06:44:51.944187Z",
     "shell.execute_reply.started": "2024-07-27T06:44:51.941909Z"
    },
    "tags": []
   },
   "outputs": [],
   "source": [
    "# !axel -n 5 -o weather.round1.train.gt.2019-2021.zip 'https://tianchi-race-prod-sh.oss-cn-shanghai.aliyuncs.com/file/race/documents/532234/bigFile/weather.round1.train.gt.2019-2021.zip?Expires=1722075729&OSSAccessKeyId=LTAI5t7fj2oKqzKgLGz6kGQc&Signature=xw7%2BwQYII7juPQOgRS5w5H4ajk0%3D&response-content-disposition=attachment%3B%20'\n",
    "# !axel -n 5 -o weather.round1.test.zip 'https://tianchi-race-prod-sh.oss-cn-shanghai.aliyuncs.com/file/race/documents/532234/bigFile/weather.round1.test.zip?Expires=1722075881&OSSAccessKeyId=LTAI5t7fj2oKqzKgLGz6kGQc&Signature=A8CNwcsCIm19Z5%2FAk7qnzUgsERA%3D&response-content-disposition=attachment%3B%20'"
   ]
  },
  {
   "cell_type": "code",
   "execution_count": 3,
   "metadata": {
    "ExecutionIndicator": {
     "show": false
    },
    "execution": {
     "iopub.execute_input": "2024-07-27T06:44:51.945607Z",
     "iopub.status.busy": "2024-07-27T06:44:51.945384Z",
     "iopub.status.idle": "2024-07-27T06:44:51.948352Z",
     "shell.execute_reply": "2024-07-27T06:44:51.947943Z",
     "shell.execute_reply.started": "2024-07-27T06:44:51.945591Z"
    },
    "tags": []
   },
   "outputs": [],
   "source": [
    "# !axel -n 5 -o weather.round1.train.ft.2019.2.zip 'https://tianchi-race-prod-sh.oss-cn-shanghai.aliyuncs.com/file/race/documents/532234/bigFile/weather.round1.train.ft.2019.2.zip?Expires=1722076269&OSSAccessKeyId=LTAI5t7fj2oKqzKgLGz6kGQc&Signature=uAyfAhnHnIeIrUdxnLG2Eing2MQ%3D&response-content-disposition=attachment%3B%20'\n",
    "# !axel -n 5 -o weather.round1.train.ft.2019.1.zip 'https://tianchi-race-prod-sh.oss-cn-shanghai.aliyuncs.com/file/race/documents/532234/bigFile/weather.round1.train.ft.2019.1.zip?Expires=1722076167&OSSAccessKeyId=LTAI5t7fj2oKqzKgLGz6kGQc&Signature=D%2FxgI63On9WOK8I4gtSXk16VWYs%3D&response-content-disposition=attachment%3B%20'\n",
    "# !axel -n 5 -o weather.round1.train.ft.2020.1.zip 'https://tianchi-race-prod-sh.oss-cn-shanghai.aliyuncs.com/file/race/documents/532234/bigFile/weather.round1.train.ft.2020.1.zip?Expires=1722076296&OSSAccessKeyId=LTAI5t7fj2oKqzKgLGz6kGQc&Signature=18%2F2RY3blpFtnuVwvl4qlwhu8oY%3D&response-content-disposition=attachment%3B%20'\n",
    "# !axel -n 5 -o weather.round1.train.ft.2021.1.zip 'https://tianchi-race-prod-sh.oss-cn-shanghai.aliyuncs.com/file/race/documents/532234/bigFile/weather.round1.train.ft.2021.1.zip?Expires=1722076471&OSSAccessKeyId=LTAI5t7fj2oKqzKgLGz6kGQc&Signature=SUS6yVxqAdivMLnb1nXwjmPnuRE%3D&response-content-disposition=attachment%3B%20'\n",
    "# !axel -n 5 -o weather.round1.train.ft.2020.2.zip 'https://tianchi-race-prod-sh.oss-cn-shanghai.aliyuncs.com/file/race/documents/532234/bigFile/weather.round1.train.ft.2020.2.zip?Expires=1722076315&OSSAccessKeyId=LTAI5t7fj2oKqzKgLGz6kGQc&Signature=xl8mHlK4f%2FGxoyVbOc%2FTT3uklJA%3D&response-content-disposition=attachment%3B%20'\n",
    "# !axel -n 5 -o weather.round1.train.ft.2021.2.zip 'https://tianchi-race-prod-sh.oss-cn-shanghai.aliyuncs.com/file/race/documents/532234/bigFile/weather.round1.train.ft.2021.2.zip?Expires=1722076489&OSSAccessKeyId=LTAI5t7fj2oKqzKgLGz6kGQc&Signature=l39CwNTCl24FD8qHw41coNLdAiY%3D&response-content-disposition=attachment%3B%20'"
   ]
  },
  {
   "cell_type": "code",
   "execution_count": 4,
   "metadata": {
    "ExecutionIndicator": {
     "show": false
    },
    "execution": {
     "iopub.execute_input": "2024-07-27T06:44:51.949253Z",
     "iopub.status.busy": "2024-07-27T06:44:51.948967Z",
     "iopub.status.idle": "2024-07-27T06:44:51.951565Z",
     "shell.execute_reply": "2024-07-27T06:44:51.951175Z",
     "shell.execute_reply.started": "2024-07-27T06:44:51.949235Z"
    },
    "tags": []
   },
   "outputs": [],
   "source": [
    "# !unzip -q -n weather.round1.train.gt.2019-2021.zip -d groundtruth\n",
    "# !unzip -q -n weather.round1.test.zip -d test\n",
    "# !unzip -q -n weather.round1.train.ft.2019.2.zip -d train.ft.2019.2\n",
    "# !unzip -q -n weather.round1.train.ft.2019.1.zip -d train.ft.2019.1\n",
    "# !unzip -q -n weather.round1.train.ft.2020.1.zip -d train.ft.2020.1\n",
    "# !unzip -q -n weather.round1.train.ft.2021.1.zip -d train.ft.2021.1\n",
    "# !unzip -q -n weather.round1.train.ft.2020.2.zip -d train.ft.2020.2\n",
    "# !unzip -q -n weather.round1.train.ft.2021.2.zip -d train.ft.2021.2"
   ]
  },
  {
   "cell_type": "markdown",
   "metadata": {},
   "source": [
    "### **第二步**\n",
    "导入运行所需要的库函数 "
   ]
  },
  {
   "cell_type": "code",
   "execution_count": 5,
   "metadata": {
    "ExecutionIndicator": {
     "show": true
    },
    "execution": {
     "iopub.execute_input": "2024-07-27T06:44:51.952320Z",
     "iopub.status.busy": "2024-07-27T06:44:51.952133Z",
     "iopub.status.idle": "2024-07-27T06:44:53.192954Z",
     "shell.execute_reply": "2024-07-27T06:44:53.192407Z",
     "shell.execute_reply.started": "2024-07-27T06:44:51.952306Z"
    },
    "tags": []
   },
   "outputs": [],
   "source": [
    "import os\n",
    "import pandas as pd\n",
    "import xarray as xr\n",
    "from torch.utils.data import Dataset, DataLoader\n",
    "import warnings\n",
    "warnings.filterwarnings(\"ignore\", category=UserWarning)"
   ]
  },
  {
   "cell_type": "markdown",
   "metadata": {},
   "source": [
    "### **第三步**\n",
    "数据集路径配置设置\n",
    "- 比赛的数据部分分为**数据特征**和**数据真值**两部分，数据特征是模型训练的**输入**，数据真值是模型训练的**标签**\n",
    "- 其中数据特征部分 输入的路径目录下包含年份文件夹 \n",
    " - 例如示例给出的 \"输入路径/2021/...\" 各年份文件夹下包含从官网下载的压缩包(e.g. weather.round1.train.ft.2021.1.zip) 解压后文件夹下有不同时段的数据文件夹(e.g. 20210101-00), 内部包含6个nc文件, 是从伏羲大模型中获取的从第6小时到第72小时的数据\n",
    "\n",
    "- 数据真值部分 输入的路径目录下包含3个年份的.nc数据, 其中选择哪些年份的特征数据作为输入, 就在years中添加哪些年份\n",
    "- fcst_steps指预测的时间步长, 从第1小时到第72小时, 间隔为1小时\n",
    "\n"
   ]
  },
  {
   "cell_type": "code",
   "execution_count": 6,
   "metadata": {
    "ExecutionIndicator": {
     "show": true
    },
    "execution": {
     "iopub.execute_input": "2024-07-27T06:44:53.194036Z",
     "iopub.status.busy": "2024-07-27T06:44:53.193667Z",
     "iopub.status.idle": "2024-07-27T06:44:53.197069Z",
     "shell.execute_reply": "2024-07-27T06:44:53.196609Z",
     "shell.execute_reply.started": "2024-07-27T06:44:53.194014Z"
    },
    "tags": []
   },
   "outputs": [],
   "source": [
    "# path config\n",
    "feature_path = 'feature'\n",
    "gt_path = 'groundtruth'\n",
    "years = ['2019', '2020', '2021']\n",
    "fcst_steps = list(range(1, 73, 1))"
   ]
  },
  {
   "cell_type": "markdown",
   "metadata": {},
   "source": [
    "### **第四步**\n",
    "Feature类和GroundTruth类是数据集的定义\n",
    "方便后续自定义数据集和数据加载类, 方便我们训练时取数据"
   ]
  },
  {
   "cell_type": "code",
   "execution_count": 7,
   "metadata": {
    "execution": {
     "iopub.execute_input": "2024-07-27T06:44:53.198788Z",
     "iopub.status.busy": "2024-07-27T06:44:53.198563Z",
     "iopub.status.idle": "2024-07-27T06:44:53.204155Z",
     "shell.execute_reply": "2024-07-27T06:44:53.203705Z",
     "shell.execute_reply.started": "2024-07-27T06:44:53.198773Z"
    },
    "tags": []
   },
   "outputs": [],
   "source": [
    "# Feature部分\n",
    "class Feature:\n",
    "    def __init__(self):\n",
    "        self.path = feature_path\n",
    "        self.years = years\n",
    "        self.fcst_steps = fcst_steps\n",
    "        self.features_paths_dict = self.get_features_paths()\n",
    "\n",
    "    def get_features_paths(self):\n",
    "        init_time_path_dict = {}\n",
    "        for year in self.years:\n",
    "            init_time_dir_year = os.listdir(os.path.join(self.path, year))\n",
    "            for init_time in sorted(init_time_dir_year):\n",
    "                init_time_path_dict[pd.to_datetime(init_time)] = os.path.join(self.path, year, init_time)\n",
    "        return init_time_path_dict\n",
    "\n",
    "    def get_fts(self, init_time):\n",
    "        return xr.open_mfdataset(self.features_paths_dict.get(init_time) + '/*').sel(lead_time=self.fcst_steps).isel(\n",
    "            time=0)\n",
    "    \n",
    "# GroundTruth部分\n",
    "class GT:\n",
    "    def __init__(self):\n",
    "        self.path = gt_path\n",
    "        self.years = years\n",
    "        self.fcst_steps = fcst_steps\n",
    "        self.gt_paths = [os.path.join(self.path, f'{year}.nc') for year in self.years]\n",
    "        self.gts = xr.open_mfdataset(self.gt_paths)\n",
    "\n",
    "    def parser_gt_timestamps(self, init_time):\n",
    "        return [init_time + pd.Timedelta(f'{fcst_step}h') for fcst_step in self.fcst_steps]\n",
    "\n",
    "    def get_gts(self, init_time):\n",
    "\n",
    "        return self.gts.sel(time=self.parser_gt_timestamps(init_time))"
   ]
  },
  {
   "cell_type": "markdown",
   "metadata": {},
   "source": [
    "### **第五步**\n",
    "mydataset类的定义, 整合了加载特征和特征对应真值的功能, 方便后续训练时取数据"
   ]
  },
  {
   "cell_type": "code",
   "execution_count": 8,
   "metadata": {
    "ExecutionIndicator": {
     "show": true
    },
    "execution": {
     "iopub.execute_input": "2024-07-27T06:44:53.205445Z",
     "iopub.status.busy": "2024-07-27T06:44:53.204980Z",
     "iopub.status.idle": "2024-07-27T06:44:53.209552Z",
     "shell.execute_reply": "2024-07-27T06:44:53.208961Z",
     "shell.execute_reply.started": "2024-07-27T06:44:53.205417Z"
    },
    "tags": []
   },
   "outputs": [],
   "source": [
    "# 构建Dataset部分\n",
    "class mydataset(Dataset):\n",
    "    def __init__(self):\n",
    "        self.ft = Feature()\n",
    "        self.gt = GT()\n",
    "        self.features_paths_dict = self.ft.features_paths_dict\n",
    "        self.init_times = list(self.features_paths_dict.keys())\n",
    "\n",
    "    def __getitem__(self, index):\n",
    "        init_time = self.init_times[index]\n",
    "        ft_item = self.ft.get_fts(init_time).to_array().isel(variable=0).values\n",
    "        #print(type(ft_item))\n",
    "        gt_item = self.gt.get_gts(init_time).to_array().isel(variable=0).values\n",
    "        #print(type(gt_item))\n",
    "        return ft_item, gt_item\n",
    "\n",
    "    def __len__(self):\n",
    "        return len(list(self.init_times))"
   ]
  },
  {
   "cell_type": "markdown",
   "metadata": {},
   "source": [
    "### **第六步**\n",
    "前五步已经完成了数据预处理加载的相关类和函数的准备, 这里我们可以通过实例化mydataset类来查看数据数量\n",
    "同时完成数据集的构建后, 我们可以通过DataLoader来查看数据集的数据"
   ]
  },
  {
   "cell_type": "code",
   "execution_count": 9,
   "metadata": {
    "ExecutionIndicator": {
     "show": true
    },
    "execution": {
     "iopub.execute_input": "2024-07-27T06:44:53.210714Z",
     "iopub.status.busy": "2024-07-27T06:44:53.210343Z",
     "iopub.status.idle": "2024-07-27T06:44:54.179825Z",
     "shell.execute_reply": "2024-07-27T06:44:54.179239Z",
     "shell.execute_reply.started": "2024-07-27T06:44:53.210686Z"
    },
    "tags": []
   },
   "outputs": [
    {
     "name": "stdout",
     "output_type": "stream",
     "text": [
      "sample num: 1465\n",
      "1318 train + 147 test\n"
     ]
    }
   ],
   "source": [
    "# 可以查看一下已经构建的dataset\n",
    "# define datase\n",
    "from torch.utils.data import random_split\n",
    "my_data = mydataset()\n",
    "print('sample num:', mydataset().__len__())\n",
    "\n",
    "train_size = int(0.9 * len(my_data))\n",
    "val_size = len(my_data) - train_size\n",
    "train_dataset, val_dataset = random_split(my_data, [train_size, val_size])\n",
    "print(len(train_dataset), \"train +\", len(val_dataset), \"test\")\n",
    "\n",
    "train_loader = DataLoader(train_dataset, batch_size=64, shuffle=True)\n",
    "val_loader = DataLoader(val_dataset, batch_size=64, shuffle=False)\n",
    "\n",
    "# for ft_item, gt_item in train_loader:\n",
    "#     ft_item = ft_item.float()\n",
    "#     gt_item = gt_item.float()\n",
    "#     print(type(ft_item))\n",
    "#     print(type(gt_item))"
   ]
  },
  {
   "cell_type": "markdown",
   "metadata": {},
   "source": [
    "### **第七步**\n",
    "- 完成了数据的准备工作, 接下来就是构建模型的部分\n",
    "- Model这个类, 对我们的模型进行定义, 方便后续训练时调用\n",
    "- 这里我们以一个简单的只有一个卷积层的网络为例\n",
    "- 在本次比赛中, 我们的输入数据维度是(1, 24, 72, W, H), 输出数据维度是(1, 72, W, H) 可以在赛题中查看"
   ]
  },
  {
   "cell_type": "code",
   "execution_count": 10,
   "metadata": {
    "ExecutionIndicator": {
     "show": true
    },
    "execution": {
     "iopub.execute_input": "2024-07-27T06:44:54.181282Z",
     "iopub.status.busy": "2024-07-27T06:44:54.180746Z",
     "iopub.status.idle": "2024-07-27T06:44:54.849997Z",
     "shell.execute_reply": "2024-07-27T06:44:54.849309Z",
     "shell.execute_reply.started": "2024-07-27T06:44:54.181252Z"
    },
    "tags": []
   },
   "outputs": [],
   "source": [
    "# 模型构建部分\n",
    "import torch\n",
    "import torch.nn as nn\n",
    "\n",
    "class Model(nn.Module):\n",
    "    def __init__(self, num_in_ch, num_out_ch):\n",
    "        super(Model, self).__init__()\n",
    "        # shape [B * S, in_C, W, H] -> [B * S, out_C, W, H]\n",
    "        self.conv1 = nn.Conv2d(num_in_ch, 12, 7, 1, 3)\n",
    "        self.norm1 = nn.BatchNorm2d(12)\n",
    "        self.conv2 = nn.Conv2d(12, 6, 3, 1, 1)\n",
    "        self.norm2 = nn.BatchNorm2d(6)\n",
    "        self.conv3 = nn.Conv2d(6, 1, 3, 1, 1)\n",
    "        self.avgpool = nn.AvgPool2d(3, 1, 1)\n",
    "        \n",
    "        self.flat = nn.Flatten()\n",
    "\n",
    "        self.lstm1 = nn.LSTM(57 * 81, 2048, batch_first=True)\n",
    "        self.lstm2 = nn.LSTM(2048, 1024, batch_first=True)\n",
    "\n",
    "        self.fc_out = nn.Linear(1024, 57 * 81)\n",
    "        self.relu = nn.ReLU()\n",
    "        \n",
    "        self.dropout = nn.Dropout(0.4)\n",
    "\n",
    "    def forward(self, x):\n",
    "        B, S, C, W, H = x.shape\n",
    "        x = x.reshape(-1, C, W, H)\n",
    "        out = self.conv1(x)\n",
    "        out = self.norm1(out)\n",
    "        out = self.relu(out)\n",
    "        \n",
    "        out = self.conv2(out)\n",
    "        out = self.norm2(out)\n",
    "        out = self.dropout(out)\n",
    "        \n",
    "        out = self.conv3(out)\n",
    "        out = self.avgpool(out)\n",
    "\n",
    "        out = out.reshape(B, S, -1)\n",
    "\n",
    "        out, h = self.lstm1(out)\n",
    "        out = self.dropout(out)\n",
    "        out, h = self.lstm2(out)\n",
    "\n",
    "        out = self.fc_out(out)\n",
    "\n",
    "        out = out.reshape(B, S, W, H)\n",
    "        return out\n",
    "\n",
    "# define model\n",
    "in_varibales = 24\n",
    "in_times = len(fcst_steps)\n",
    "out_varibales = 1\n",
    "out_times = len(fcst_steps)\n",
    "input_size = in_varibales\n",
    "output_size = out_varibales\n",
    "\n",
    "model = Model(input_size, output_size).cuda()"
   ]
  },
  {
   "cell_type": "markdown",
   "metadata": {},
   "source": [
    "### **第八步**\n",
    "定义模型的损失函数部分， 用于模型训练做反向传播"
   ]
  },
  {
   "cell_type": "code",
   "execution_count": 11,
   "metadata": {
    "execution": {
     "iopub.execute_input": "2024-07-27T06:44:54.851239Z",
     "iopub.status.busy": "2024-07-27T06:44:54.850881Z",
     "iopub.status.idle": "2024-07-27T06:44:54.854426Z",
     "shell.execute_reply": "2024-07-27T06:44:54.853835Z",
     "shell.execute_reply.started": "2024-07-27T06:44:54.851210Z"
    },
    "tags": []
   },
   "outputs": [],
   "source": [
    "# define loss\n",
    "loss_func = nn.MSELoss()"
   ]
  },
  {
   "cell_type": "code",
   "execution_count": 12,
   "metadata": {
    "execution": {
     "iopub.execute_input": "2024-07-27T06:44:54.855579Z",
     "iopub.status.busy": "2024-07-27T06:44:54.855283Z",
     "iopub.status.idle": "2024-07-27T06:44:54.858686Z",
     "shell.execute_reply": "2024-07-27T06:44:54.858067Z",
     "shell.execute_reply.started": "2024-07-27T06:44:54.855551Z"
    }
   },
   "outputs": [],
   "source": [
    "def socre(out, label):\n",
    "    out_1 = out >= 50.0\n",
    "    label_1 = label >= 50.0\n",
    "    "
   ]
  },
  {
   "cell_type": "markdown",
   "metadata": {},
   "source": [
    "### **第九步**\n",
    "模型训练部分"
   ]
  },
  {
   "cell_type": "code",
   "execution_count": null,
   "metadata": {
    "ExecutionIndicator": {
     "show": true
    },
    "execution": {
     "iopub.execute_input": "2024-07-27T06:44:54.859874Z",
     "iopub.status.busy": "2024-07-27T06:44:54.859632Z"
    },
    "scrolled": true,
    "tags": []
   },
   "outputs": [
    {
     "name": "stderr",
     "output_type": "stream",
     "text": [
      "[Train]:  14%|█▍        | 3/21 [00:59<05:53, 19.62s/it]"
     ]
    }
   ],
   "source": [
    "import numpy as np\n",
    "import torch\n",
    "from tqdm import tqdm\n",
    "# Train the model\n",
    "num_epochs = 40\n",
    "optimizer = torch.optim.AdamW(model.parameters(), lr=1e-3, weight_decay=0.001)\n",
    "train_losses, valid_losses = [], []\n",
    "best_loss = 1e8\n",
    "early_stop = 10\n",
    "\n",
    "# for epoch in tqdm(range(num_epochs)):\n",
    "for epoch in range(num_epochs):\n",
    "    index = 0\n",
    "    total_loss = 0\n",
    "    model.train()\n",
    "    for ft_item, gt_item in tqdm(train_loader, desc='[Train]'):\n",
    "        ft_item = ft_item.cuda().float()\n",
    "        gt_item = gt_item.cuda().float()\n",
    "        # print(type(ft_item))\n",
    "        # print(type(gt_item))\n",
    "        \n",
    "        # Forward pass\n",
    "        output_item = model(ft_item)\n",
    "        loss = loss_func(output_item, gt_item)\n",
    "        \n",
    "        # Backward and optimize\n",
    "        optimizer.zero_grad()\n",
    "        loss.backward()\n",
    "        optimizer.step()\n",
    "        \n",
    "        total_loss += loss.item()\n",
    "        \n",
    "    train_loss = total_loss / len(train_loader)\n",
    "    print(f\"Epoch [{epoch+1}/{num_epochs}], Avg Training Loss: {train_loss}\")\n",
    "    train_losses.append(train_loss)\n",
    "        \n",
    "        \n",
    "    model.eval()\n",
    "    total_loss = 0\n",
    "    with torch.no_grad():\n",
    "        for ft_item, gt_item in tqdm(val_loader, desc='[Valid]'):\n",
    "            ft_item = ft_item.cuda().float()\n",
    "            gt_item = gt_item.cuda().float()\n",
    "            # print(type(ft_item))\n",
    "            # print(type(gt_item))\n",
    "\n",
    "            # Forward pass\n",
    "            output_item = model(ft_item)\n",
    "            loss = loss_func(output_item, gt_item)\n",
    "            total_loss += loss.item()\n",
    "            \n",
    "    val_loss = total_loss / len(val_loader)\n",
    "    print(f\"Epoch [{epoch+1}/{num_epochs}], Avg Valid Loss: {val_loss}\")\n",
    "    valid_losses.append(val_loss)\n",
    "    \n",
    "    if val_loss < best_loss:\n",
    "        # Save the model weights\n",
    "        torch.save(model.state_dict(), 'model_weights.pth')\n",
    "        print('===> save the model')\n",
    "        best_loss = val_loss\n",
    "        early_stop = 10\n",
    "    early_stop -= 1\n",
    "    if early_stop == 0:\n",
    "        break"
   ]
  },
  {
   "cell_type": "code",
   "execution_count": null,
   "metadata": {
    "tags": []
   },
   "outputs": [],
   "source": [
    "# 绘制训练/验证曲线\n",
    "import seaborn as sns\n",
    "color = sns.color_palette()\n",
    "sns.set_style('darkgrid')\n",
    "import matplotlib.pyplot as plt\n",
    "%matplotlib inline\n",
    "\n",
    "def training_vis(train_losses, valid_losses):\n",
    "    # 绘制损失函数曲线\n",
    "    fig = plt.figure(figsize=(8,4))\n",
    "    # subplot loss\n",
    "    ax1 = fig.add_subplot(121)\n",
    "    ax1.plot(train_losses, label='train_loss')\n",
    "    ax1.plot(valid_losses,label='val_loss')\n",
    "    ax1.set_xlabel('Epochs')\n",
    "    ax1.set_ylabel('Loss')\n",
    "    ax1.set_title('Loss on Training and Validation Data')\n",
    "    ax1.legend()\n",
    "    plt.tight_layout()\n",
    "    \n",
    "training_vis(train_losses, valid_losses)"
   ]
  },
  {
   "cell_type": "markdown",
   "metadata": {},
   "source": [
    "### **第十步**\n",
    "- 模型推理部分, 通过加载模型使用测试数据作为输入, 得到预测结果\n",
    "- 其中test_data_path需要给出从下载测试数据解压后的目录路径"
   ]
  },
  {
   "cell_type": "code",
   "execution_count": null,
   "metadata": {
    "ExecutionIndicator": {
     "show": true
    },
    "tags": []
   },
   "outputs": [],
   "source": [
    "# Inference\n",
    "# Load the model weights\n",
    "model.load_state_dict(torch.load('model_weights.pth'))\n",
    "model.eval()\n",
    "import os\n",
    "\n",
    "test_data_path = \"test/weather.round1.test\"\n",
    "os.makedirs(\"./output\", exist_ok=True)\n",
    "for index, test_data_file in enumerate(os.listdir(test_data_path)):\n",
    "    test_data = torch.load(os.path.join(test_data_path, test_data_file))\n",
    "    test_data = test_data.cuda().float()\n",
    "    \n",
    "    # Forward pass\n",
    "    output_item = model(test_data)\n",
    "    \n",
    "    # Print the output shape\n",
    "    print(f\"Output shape for sample {test_data_file.split('.')[0]}: {output_item.shape}\")\n",
    "    \n",
    "    # Save the output\n",
    "    output_path = f\"output/{test_data_file}\"\n",
    "    torch.save(output_item.cpu(), output_path)\n",
    "    # Load the model weights\n",
    "    model.load_state_dict(torch.load(\"model_weights.pth\"))"
   ]
  },
  {
   "cell_type": "code",
   "execution_count": null,
   "metadata": {
    "ExecutionIndicator": {
     "show": true
    },
    "tags": []
   },
   "outputs": [],
   "source": [
    "!zip -r output.zip output"
   ]
  }
 ],
 "metadata": {
  "kernelspec": {
   "display_name": "Python 3 (ipykernel)",
   "language": "python",
   "name": "python3"
  },
  "language_info": {
   "codemirror_mode": {
    "name": "ipython",
    "version": 3
   },
   "file_extension": ".py",
   "mimetype": "text/x-python",
   "name": "python",
   "nbconvert_exporter": "python",
   "pygments_lexer": "ipython3",
   "version": "3.10.14"
  }
 },
 "nbformat": 4,
 "nbformat_minor": 4
}
